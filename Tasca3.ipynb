{
 "cells": [
  {
   "cell_type": "markdown",
   "metadata": {},
   "source": [
    "### Exercici 1\n",
    "+ L'exercici consisteix a crear un programa que et classifiqui una variable numèrica en funció de l’escala Suspès/Aprovat/Notable/Excel·lent.\n"
   ]
  },
  {
   "cell_type": "code",
   "execution_count": 1,
   "metadata": {},
   "outputs": [
    {
     "name": "stdout",
     "output_type": "stream",
     "text": [
      "hay una nota no valida dentro del rango\n",
      "hay una nota no valida dentro del rango\n"
     ]
    },
    {
     "data": {
      "text/plain": [
       "['Aprovat',\n",
       " 'NaN',\n",
       " 'Notable',\n",
       " 'Excellent',\n",
       " 'NaN',\n",
       " 'Aprovat',\n",
       " 'Excellent',\n",
       " 'Aprovat',\n",
       " 'Aprovat',\n",
       " 'Notable']"
      ]
     },
     "execution_count": 1,
     "metadata": {},
     "output_type": "execute_result"
    }
   ],
   "source": [
    "def convierte_notas(*notas):    \n",
    "    '''\n",
    "    convierte una nota (variable numerica)o lista de notas a variables categoricas\n",
    "    0-5(not included): Suspens\n",
    "    5-7(not included): Aprovat\n",
    "    7-9(not included): Notable\n",
    "    >9:Excellent\n",
    "    '''\n",
    "    notas_categ=[]    \n",
    "    for valor in notas:        \n",
    "        if valor>10 or valor<0:\n",
    "            print('hay una nota no valida dentro del rango')\n",
    "            notas_categ.append('NaN')\n",
    "        elif valor<5:\n",
    "            notas_categ.append('Suspens')\n",
    "        elif valor>=5 and valor <7:\n",
    "            notas_categ.append('Aprovat')            \n",
    "        elif valor>=7 and valor <9:\n",
    "            notas_categ.append('Notable')            \n",
    "        else:\n",
    "            notas_categ.append('Excellent')    \n",
    "            \n",
    "    return notas_categ\n",
    "\n",
    "convierte_notas(5,67,8,9,86,5,10,5.4,6.1,8.1)   "
   ]
  },
  {
   "cell_type": "markdown",
   "metadata": {},
   "source": [
    "### Exercici 2\n",
    "\n",
    "+ Utilitzant el següent tutorial Programiz: Python Input, Output and Import crea un programa que et pregunti dos números. T’ha de mostrar un missatge dient si el primer és més gran, el segon és més gran o són iguals."
   ]
  },
  {
   "cell_type": "code",
   "execution_count": 3,
   "metadata": {},
   "outputs": [
    {
     "name": "stdout",
     "output_type": "stream",
     "text": [
      "Enter a number: 45\n",
      "Enter another number: -5\n",
      "el primer numero es mas grande\n"
     ]
    }
   ],
   "source": [
    "num1 = int(input('Enter a number: '))\n",
    "num2 = int(input('Enter another number: '))\n",
    "if num1> num2:\n",
    "    print('el primer numero es mas grande')\n",
    "elif num1<num2:\n",
    "    print('el segundo numero es mas grande')\n",
    "else:\n",
    "    print('numeros iguales')\n",
    "    "
   ]
  },
  {
   "cell_type": "markdown",
   "metadata": {},
   "source": [
    "### Exercici 3\n",
    "\n",
    "+ Crea un programa que et pregunti el teu nom, i et demani un número. Si el número és 0, hauria de mostrar un missatge d’error. En cas contrari, hauria de mostrar el nom repetit tants cops com indiqui el número. Per exemple, “Joan Joan Joan”.\n"
   ]
  },
  {
   "cell_type": "code",
   "execution_count": 4,
   "metadata": {},
   "outputs": [
    {
     "name": "stdout",
     "output_type": "stream",
     "text": [
      "dime tu nombre: Manel\n",
      "dime un numero (del 0 al 10): 5\n",
      "Manel Manel Manel Manel Manel "
     ]
    }
   ],
   "source": [
    "name = input('dime tu nombre: ')\n",
    "tel = int(input('dime un numero (del 0 al 10): '))\n",
    "if tel!=0 and tel<=10:\n",
    "    counter = 0\n",
    "    while counter < tel:\n",
    "        print(name,end=' ')\n",
    "        counter+=1\n",
    "else:\n",
    "    print('fatal error')\n",
    "  \n",
    "    "
   ]
  },
  {
   "cell_type": "markdown",
   "metadata": {},
   "source": [
    "### Exercici 4\n",
    "\n",
    "+ Crea un programa que donada una llista qualsevol, et digui si es simètrica o no. Si ho és, que et digui quants elements té."
   ]
  },
  {
   "cell_type": "code",
   "execution_count": 5,
   "metadata": {},
   "outputs": [],
   "source": [
    "lista_no_simetrica = [1,2,3,4,5,6]\n",
    "lista_simetrica = [1,2,3,4,3,2,1] "
   ]
  },
  {
   "cell_type": "code",
   "execution_count": 6,
   "metadata": {},
   "outputs": [],
   "source": [
    "def check_simetry(data):\n",
    "    for i,el in enumerate(data):\n",
    "        if data[i]==data[-i-1]:\n",
    "            continue            \n",
    "        else:\n",
    "            return False    \n",
    "    return len(data)"
   ]
  },
  {
   "cell_type": "code",
   "execution_count": 7,
   "metadata": {},
   "outputs": [
    {
     "name": "stdout",
     "output_type": "stream",
     "text": [
      "False\n",
      "7\n"
     ]
    }
   ],
   "source": [
    "print(check_simetry(lista_no_simetrica))\n",
    "print(check_simetry(lista_simetrica))"
   ]
  },
  {
   "cell_type": "markdown",
   "metadata": {},
   "source": [
    "### Exercici 5\n",
    "\n",
    "+ Crea un programa que donada una llista, et digui quants números coincideixen amb la seva posició. Per exemple [3,4,2,0,2,3,6] el 2 i el 6 coincideixen."
   ]
  },
  {
   "cell_type": "code",
   "execution_count": 8,
   "metadata": {},
   "outputs": [],
   "source": [
    "my_list= [3,4,2,0,2,3,6]\n",
    "my_list_2=[1,1,3,5,6,7,8,2,8,0,10]"
   ]
  },
  {
   "cell_type": "code",
   "execution_count": 9,
   "metadata": {},
   "outputs": [],
   "source": [
    "def coincidencias(my_list):\n",
    "    for i,el in enumerate(my_list):\n",
    "        if el == i:\n",
    "            print(el)"
   ]
  },
  {
   "cell_type": "code",
   "execution_count": 10,
   "metadata": {},
   "outputs": [
    {
     "name": "stdout",
     "output_type": "stream",
     "text": [
      "2\n",
      "6\n"
     ]
    }
   ],
   "source": [
    "coincidencias(my_list) "
   ]
  },
  {
   "cell_type": "code",
   "execution_count": 11,
   "metadata": {},
   "outputs": [
    {
     "name": "stdout",
     "output_type": "stream",
     "text": [
      "1\n",
      "8\n",
      "10\n"
     ]
    }
   ],
   "source": [
    "coincidencias(my_list_2)"
   ]
  },
  {
   "cell_type": "code",
   "execution_count": null,
   "metadata": {},
   "outputs": [],
   "source": []
  }
 ],
 "metadata": {
  "celltoolbar": "Raw Cell Format",
  "kernelspec": {
   "display_name": "Python 3.8.5 64-bit",
   "language": "python",
   "name": "python38564bit085283b789164c689fec9352bdb58d25"
  },
  "language_info": {
   "codemirror_mode": {
    "name": "ipython",
    "version": 3
   },
   "file_extension": ".py",
   "mimetype": "text/x-python",
   "name": "python",
   "nbconvert_exporter": "python",
   "pygments_lexer": "ipython3",
   "version": "3.8.5"
  }
 },
 "nbformat": 4,
 "nbformat_minor": 4
}
